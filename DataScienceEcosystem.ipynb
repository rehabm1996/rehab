{
 "cells": [
  {
   "cell_type": "markdown",
   "id": "13dab41b",
   "metadata": {},
   "source": [
    "# Data Science Tools and Ecosystem"
   ]
  },
  {
   "cell_type": "markdown",
   "id": "67479211",
   "metadata": {},
   "source": [
    "In this notebook, Data Science Tools and Ecosystem are summarized."
   ]
  },
  {
   "cell_type": "markdown",
   "id": "d1243b2f",
   "metadata": {},
   "source": [
    "**Objectives**\n",
    "* Python\n",
    "* SQL\n",
    "* R"
   ]
  },
  {
   "cell_type": "markdown",
   "id": "06f164e6",
   "metadata": {},
   "source": [
    "Some of the popular languages that Data Scientists use are:"
   ]
  },
  {
   "cell_type": "markdown",
   "id": "bb9472a1",
   "metadata": {},
   "source": [
    " 1. Python\n",
    " 2. R\n",
    " 3. SQL"
   ]
  },
  {
   "cell_type": "markdown",
   "id": "be7c632e",
   "metadata": {},
   "source": [
    "Some of the commonly used libraries used by Data Scientists include:"
   ]
  },
  {
   "cell_type": "markdown",
   "id": "605fb4ef",
   "metadata": {},
   "source": [
    " 1. Pandas\n",
    " 2. Numpy\n",
    " 3. Marplolib"
   ]
  },
  {
   "cell_type": "markdown",
   "id": "9ee12704",
   "metadata": {},
   "source": [
    "| Data Science Tools |\n",
    "|----------------------|\n",
    "| jupyter Notebook |\n",
    "| RStudio |\n",
    "| Python |\n",
    "\n"
   ]
  },
  {
   "cell_type": "markdown",
   "id": "8caff94d",
   "metadata": {},
   "source": [
    "### Below are a few examples of evaluating arithmetic expressions in Python.\n"
   ]
  },
  {
   "cell_type": "markdown",
   "id": "8999f2cc",
   "metadata": {},
   "source": [
    " This a simple arithmetic expression to mutiply then add integers"
   ]
  },
  {
   "cell_type": "code",
   "execution_count": 5,
   "id": "4692ee4d",
   "metadata": {},
   "outputs": [
    {
     "data": {
      "text/plain": [
       "17"
      ]
     },
     "execution_count": 5,
     "metadata": {},
     "output_type": "execute_result"
    }
   ],
   "source": [
    "(3*4)+5"
   ]
  },
  {
   "cell_type": "markdown",
   "id": "22a24c78",
   "metadata": {},
   "source": [
    " This will convert 200 minutes to hours by diving by 60"
   ]
  },
  {
   "cell_type": "code",
   "execution_count": 6,
   "id": "039b534b",
   "metadata": {},
   "outputs": [],
   "source": [
    "hours = 200 // 60"
   ]
  },
  {
   "cell_type": "code",
   "execution_count": 7,
   "id": "ba4dd4c8",
   "metadata": {},
   "outputs": [
    {
     "name": "stdout",
     "output_type": "stream",
     "text": [
      "3\n"
     ]
    }
   ],
   "source": [
    "print (hours)"
   ]
  },
  {
   "cell_type": "markdown",
   "id": "6e09e0bd",
   "metadata": {},
   "source": [
    "## Author\n",
    "rehab almahdawi"
   ]
  },
  {
   "cell_type": "code",
   "execution_count": null,
   "id": "da815eb1",
   "metadata": {},
   "outputs": [],
   "source": []
  }
 ],
 "metadata": {
  "kernelspec": {
   "display_name": "Python 3 (ipykernel)",
   "language": "python",
   "name": "python3"
  },
  "language_info": {
   "codemirror_mode": {
    "name": "ipython",
    "version": 3
   },
   "file_extension": ".py",
   "mimetype": "text/x-python",
   "name": "python",
   "nbconvert_exporter": "python",
   "pygments_lexer": "ipython3",
   "version": "3.11.5"
  }
 },
 "nbformat": 4,
 "nbformat_minor": 5
}
